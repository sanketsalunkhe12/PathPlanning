{
 "cells": [
  {
   "cell_type": "code",
   "execution_count": 15,
   "metadata": {},
   "outputs": [],
   "source": [
    "import numpy as np\n",
    "import math"
   ]
  },
  {
   "cell_type": "code",
   "execution_count": 26,
   "metadata": {},
   "outputs": [],
   "source": [
    "class A_Start:\n",
    "    def __init__(self, start_pt, goal_pt):\n",
    "        print(\"A Start Path Planning\")\n",
    "        self.start = start_pt\n",
    "        self.goal = goal_pt\n",
    "\n",
    "        # creating open and close list\n",
    "        self.open_set = dict()\n",
    "        self.close_set = set()\n",
    "        self.parent_set = dict()        # parent to each node\n",
    "        self.cost_to_go = dict()              # cost to reach node\n",
    "\n",
    "        # obstacle space and free space\n",
    "        self.obstacle_space = set()\n",
    "        \n",
    "        # list of possible direction 2D = 8 dirs\n",
    "        self.distance = 1.0\n",
    "        self.direction = [(self.distance, 0), (-self.distance, 0), (0, -self.distance), (0, self.distance),       # front, back, left, right\n",
    "                          (self.distance, self.distance), (self.distance, -self.distance),                        # fr-rt, fr-lt,\n",
    "                          (-self.distance, self.distance), (-self.distance, -self.distance)]                      # bk-rt, bk-lt\n",
    "\n",
    "        self.start_searching()\n",
    "\n",
    "    def start_searching(self):\n",
    "        # initializing \n",
    "        self.cost_to_go[self.start] = 0.0\n",
    "        self.open_set[self.start] = self.get_total_heuristic_cost(self.start)\n",
    "        self.parent_set[self.start] = self.start\n",
    "\n",
    "        print(self.open_set)\n",
    "\n",
    "        while True:\n",
    "            # get a node with smallest huristic cost in open_set\n",
    "            min_cost_node, min_cost = self.get_min_cost_node()\n",
    "\n",
    "            self.open_set.pop(min_cost_node)\n",
    "            self.close_set.add(min_cost_node)\n",
    "\n",
    "            neighbour_nodes = self.get_neighbours(min_cost_node)\n",
    "\n",
    "            for neighbour_node in neighbour_nodes:\n",
    "                # check for obstacle \n",
    "                # if neighbour_node in self.obstacle_space():\n",
    "                #     continue\n",
    "\n",
    "                neighbour_node_cost = self.cost_to_go[min_cost_node] + self.get_motion_cost(neighbour_node, min_cost_node)\n",
    "                \n",
    "                if neighbour_node not in self.cost_to_go:\n",
    "                    self.cost_to_go[neighbour_node] = neighbour_node_cost\n",
    "                    self.parent_set[neighbour_node] = min_cost_node\n",
    "\n",
    "                    if neighbour_node not in self.close_set:\n",
    "                        self.open_set[neighbour_node] = self.get_total_heuristic_cost(neighbour_node)\n",
    "\n",
    "            if self.goal in self.open_set:\n",
    "                print(self.open_set)\n",
    "                break   \n",
    "\n",
    "    def get_optimal_path(self):\n",
    "        None\n",
    "\n",
    "\n",
    "    def get_motion_cost(self, current_node, next_node):\n",
    "        # This is the function which can be used for kinodyanmic cost calculation\n",
    "        # currently using eculidian norm\n",
    "        motion_cost = math.hypot(next_node[0] - current_node[0], next_node[1] - current_node[1])\n",
    "        return motion_cost\n",
    "    \n",
    "    def get_neighbours(self, min_cost_node):\n",
    "        neighbour_nodes = []\n",
    "        for u in self.direction:\n",
    "            neighbour_nodes.append((min_cost_node[0]+u[0], min_cost_node[1]+u[1]))\n",
    "        \n",
    "        return neighbour_nodes\n",
    "\n",
    "    def get_total_heuristic_cost(self, current_position):\n",
    "        total_heuristic_cost = abs(self.goal[0] - current_position[0]) + abs(self.goal[1] -current_position[1])\n",
    "        print(total_heuristic_cost)\n",
    "        return total_heuristic_cost\n",
    "    \n",
    "    def get_min_cost_node(self):\n",
    "        min_cost_node = min(self.open_set, key=self.open_set.get)\n",
    "        return min_cost_node, self.open_set[min_cost_node]"
   ]
  },
  {
   "cell_type": "code",
   "execution_count": 27,
   "metadata": {},
   "outputs": [
    {
     "name": "stdout",
     "output_type": "stream",
     "text": [
      "A Start Path Planning\n",
      "10.0\n",
      "{(5.0, 5.0): 10.0}\n",
      "9.0\n",
      "11.0\n",
      "11.0\n",
      "9.0\n",
      "8.0\n",
      "10.0\n",
      "10.0\n",
      "12.0\n",
      "7.0\n",
      "7.0\n",
      "6.0\n",
      "8.0\n",
      "8.0\n",
      "5.0\n",
      "5.0\n",
      "4.0\n",
      "6.0\n",
      "6.0\n",
      "3.0\n",
      "3.0\n",
      "2.0\n",
      "4.0\n",
      "4.0\n",
      "1.0\n",
      "1.0\n",
      "0.0\n",
      "2.0\n",
      "2.0\n",
      "{(6.0, 5.0): 9.0, (4.0, 5.0): 11.0, (5.0, 4.0): 11.0, (5.0, 6.0): 9.0, (6.0, 4.0): 10.0, (4.0, 6.0): 10.0, (4.0, 4.0): 12.0, (7.0, 6.0): 7.0, (6.0, 7.0): 7.0, (7.0, 5.0): 8.0, (5.0, 7.0): 8.0, (8.0, 7.0): 5.0, (7.0, 8.0): 5.0, (8.0, 6.0): 6.0, (6.0, 8.0): 6.0, (9.0, 8.0): 3.0, (8.0, 9.0): 3.0, (9.0, 7.0): 4.0, (7.0, 9.0): 4.0, (10.0, 9.0): 1.0, (9.0, 10.0): 1.0, (10.0, 10.0): 0.0, (10.0, 8.0): 2.0, (8.0, 10.0): 2.0}\n"
     ]
    },
    {
     "data": {
      "text/plain": [
       "<__main__.A_Start at 0x7f401970e460>"
      ]
     },
     "execution_count": 27,
     "metadata": {},
     "output_type": "execute_result"
    }
   ],
   "source": [
    "start_pt = (5.0, 5.0)\n",
    "goal_pt = (10.0,10.0)\n",
    "\n",
    "A_Start(start_pt, goal_pt)"
   ]
  },
  {
   "cell_type": "code",
   "execution_count": null,
   "metadata": {},
   "outputs": [],
   "source": []
  }
 ],
 "metadata": {
  "kernelspec": {
   "display_name": "Python 3",
   "language": "python",
   "name": "python3"
  },
  "language_info": {
   "codemirror_mode": {
    "name": "ipython",
    "version": 3
   },
   "file_extension": ".py",
   "mimetype": "text/x-python",
   "name": "python",
   "nbconvert_exporter": "python",
   "pygments_lexer": "ipython3",
   "version": "3.8.10"
  }
 },
 "nbformat": 4,
 "nbformat_minor": 2
}
